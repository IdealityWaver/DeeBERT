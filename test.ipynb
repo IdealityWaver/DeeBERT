{
 "cells": [
  {
   "cell_type": "code",
   "execution_count": 5,
   "metadata": {},
   "outputs": [
    {
     "name": "stdout",
     "output_type": "stream",
     "text": [
      "1.1.0\n"
     ]
    }
   ],
   "source": [
    "import torch\n",
    "print(torch.__version__)"
   ]
  },
  {
   "cell_type": "code",
   "execution_count": 4,
   "metadata": {},
   "outputs": [
    {
     "name": "stdout",
     "output_type": "stream",
     "text": [
      "torch.Size([4, 4])\n",
      "torch.Size([1, 16])\n",
      "tensor([[-0.5397,  0.5894, -0.5273,  0.9156, -0.6921, -0.0556, -1.3206, -0.0836,\n",
      "          2.5652,  0.4643, -0.0828,  0.1461, -1.1542, -0.6660,  0.2929,  0.0976]])\n",
      "torch.Size([16])\n",
      "tensor([-0.5397,  0.5894, -0.5273,  0.9156, -0.6921, -0.0556, -1.3206, -0.0836,\n",
      "         2.5652,  0.4643, -0.0828,  0.1461, -1.1542, -0.6660,  0.2929,  0.0976])\n"
     ]
    }
   ],
   "source": [
    "x=torch.randn(4,4)\n",
    "print(x.shape)\n",
    "y=x.view(1, -1)\n",
    "print(y.shape)\n",
    "print(y)\n",
    "z=x.view(-1)\n",
    "print(z.shape)\n",
    "print(z)"
   ]
  }
 ],
 "metadata": {
  "kernelspec": {
   "display_name": "py37",
   "language": "python",
   "name": "python3"
  },
  "language_info": {
   "codemirror_mode": {
    "name": "ipython",
    "version": 3
   },
   "file_extension": ".py",
   "mimetype": "text/x-python",
   "name": "python",
   "nbconvert_exporter": "python",
   "pygments_lexer": "ipython3",
   "version": "3.7.16"
  }
 },
 "nbformat": 4,
 "nbformat_minor": 2
}
